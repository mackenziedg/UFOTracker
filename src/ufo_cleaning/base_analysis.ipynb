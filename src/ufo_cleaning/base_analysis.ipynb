{
 "cells": [
  {
   "cell_type": "markdown",
   "metadata": {
    "ein.tags": "worksheet-0",
    "slideshow": {
     "slide_type": "-"
    }
   },
   "source": [
    "# Analysis of USAF base locations, state populations, and UFO sightings\n",
    "\n",
    "First import all of the necessary packages"
   ]
  },
  {
   "cell_type": "code",
   "execution_count": 81,
   "metadata": {
    "autoscroll": false,
    "collapsed": false,
    "ein.tags": "worksheet-0",
    "slideshow": {
     "slide_type": "-"
    }
   },
   "outputs": [],
   "source": [
    "import matplotlib.pyplot as plt\n",
    "import numpy as np\n",
    "import pandas as pd\n",
    "import statsmodels.api as sm\n",
    "import statsmodels.formula.api as sfm\n",
    "import seaborn as sns\n",
    "import us\n",
    "sns.set_style('whitegrid')  # Make those plots pretty\n",
    "%matplotlib inline\n"
   ]
  },
  {
   "cell_type": "markdown",
   "metadata": {
    "ein.tags": "worksheet-0",
    "slideshow": {
     "slide_type": "-"
    }
   },
   "source": [
    "Next, read in the necessary data.\n",
    "`sightings` is the ufo sighting records from NUFORC, `base_locs` location information about USAF bases in the US,\n",
    "`name_to_abbr` a mapping of US state names to abbreviations, and `stat_pops` US Census population data per state per decade from 1960 to 2010. "
   ]
  },
  {
   "cell_type": "code",
   "execution_count": 2,
   "metadata": {
    "autoscroll": false,
    "collapsed": false,
    "ein.tags": "worksheet-0",
    "slideshow": {
     "slide_type": "-"
    }
   },
   "outputs": [],
   "source": [
    "# Read in and create the data\n",
    "sightings = pd.read_csv(\"../../data/raw/ufo_sightings.csv\")\n",
    "base_locs = pd.read_csv(\"../../data/raw/usaf_base_locs.csv\")\n",
    "name_to_abbr = dict()\n",
    "[name_to_abbr.update({i.name: i.abbr}) for i in us.STATES]\n",
    "state_pops = pd.read_csv(\"../../data/raw/state_pops.csv\", thousands=',')  # Numbers are defined with comma separators"
   ]
  },
  {
   "cell_type": "markdown",
   "metadata": {
    "ein.tags": "worksheet-0",
    "slideshow": {
     "slide_type": "-"
    }
   },
   "source": [
    "Next, transform and select the relevant data."
   ]
  },
  {
   "cell_type": "code",
   "execution_count": 4,
   "metadata": {
    "autoscroll": false,
    "collapsed": false,
    "ein.tags": "worksheet-0",
    "slideshow": {
     "slide_type": "-"
    }
   },
   "outputs": [],
   "source": [
    "sightings = sightings[sightings.index < 109088]  # Limits to sightings from >= 1974\n",
    "sightings = sightings[sightings.state.isin(name_to_abbr.values())]  # Limits sightings to those in valid US states\n",
    "# Restructure state_pops to limit to valid US states and average from 1970 to 2010\n",
    "state_pops.Name = state_pops.Name.map(name_to_abbr)\n",
    "state_pops = state_pops.set_index('Name')\n",
    "state_pops = state_pops[['1970', '1980', '1990', '2000', '2010']]\n",
    "state_pops = state_pops.mean(1)\n",
    "state_pops = state_pops[~state_pops.index.isnull()] \n",
    "\n",
    "# Group sightings and base_locs by state and find the number of sightings/bases per state\n",
    "sightings = sightings.groupby('state').count().max(1)\n",
    "base_locs = base_locs.groupby('State').count().max(1)\n",
    "\n",
    "# Combine data into single dataframe for plotting\n",
    "df = pd.DataFrame({'sightings': sightings, 'base_count': base_locs, 'pops': state_pops}, index=sightings.index)\n",
    "df.base_count = df.base_count.fillna(0)\n",
    "df = df[df.index!='DC']\n",
    "df['sightings_per_thousand'] = (df.sightings/df.pops) * 1000\n"
   ]
  },
  {
   "cell_type": "markdown",
   "metadata": {
    "ein.tags": "worksheet-0",
    "slideshow": {
     "slide_type": "-"
    }
   },
   "source": [
    "## Statistical analysis\n",
    "Now that the data is all clean and together, we can begin analysis. \n",
    "\n",
    "### State populations vs number of sightings\n",
    "\n",
    "Although these two variables seems obviously related, it is good practice to double check assumptions."
   ]
  },
  {
   "cell_type": "code",
   "execution_count": 97,
   "metadata": {
    "autoscroll": false,
    "collapsed": false,
    "ein.tags": "worksheet-0",
    "slideshow": {
     "slide_type": "-"
    }
   },
   "outputs": [
    {
     "data": {
      "text/plain": [
       "<class 'statsmodels.iolib.summary.Summary'>\n\"\"\"\n                            OLS Regression Results                            \n==============================================================================\nDep. Variable:              sightings   R-squared:                       0.790\nModel:                            OLS   Adj. R-squared:                  0.786\nMethod:                 Least Squares   F-statistic:                     181.0\nDate:                Mon, 27 Nov 2017   Prob (F-statistic):           6.62e-18\nTime:                        11:36:58   Log-Likelihood:                -412.55\nNo. Observations:                  50   AIC:                             829.1\nDf Residuals:                      48   BIC:                             832.9\nDf Model:                           1                                         \nCovariance Type:            nonrobust                                         \n==============================================================================\n                 coef    std err          t      P>|t|      [0.025      0.975]\n------------------------------------------------------------------------------\nIntercept    235.4210    183.517      1.283      0.206    -133.565     604.407\npops           0.0003   2.48e-05     13.454      0.000       0.000       0.000\n==============================================================================\nOmnibus:                       28.872   Durbin-Watson:                   1.726\nProb(Omnibus):                  0.000   Jarque-Bera (JB):               63.877\nSkew:                           1.647   Prob(JB):                     1.35e-14\nKurtosis:                       7.452   Cond. No.                     1.01e+07\n==============================================================================\n\nWarnings:\n[1] Standard Errors assume that the covariance matrix of the errors is correctly specified.\n[2] The condition number is large, 1.01e+07. This might indicate that there are\nstrong multicollinearity or other numerical problems.\n\"\"\""
      ]
     },
     "execution_count": 97,
     "metadata": {},
     "output_type": "execute_result"
    }
   ],
   "source": [
    "# Fit an ordinary least squares model using state populations to predict number of sightings per state\n",
    "fit1 = sfm.ols('sightings ~ pops', data=df).fit()\n",
    "fit1.summary()\n"
   ]
  },
  {
   "cell_type": "markdown",
   "metadata": {
    "ein.tags": "worksheet-0",
    "slideshow": {
     "slide_type": "-"
    }
   },
   "source": [
    "Warning [2] here is odd, as there is only one predictor variable and therefore no possiblity of multicollinearity.\n",
    "Additionally, the 95% confidence interval for the intercept contains zero. This actually makes sense qualitatively, as a state with no population would be expected to have no UFO sightings. We can rerun the fit without an intercept to see if it improves."
   ]
  },
  {
   "cell_type": "code",
   "execution_count": 98,
   "metadata": {
    "autoscroll": false,
    "collapsed": false,
    "ein.tags": "worksheet-0",
    "slideshow": {
     "slide_type": "-"
    }
   },
   "outputs": [
    {
     "data": {
      "text/plain": [
       "<class 'statsmodels.iolib.summary.Summary'>\n\"\"\"\n                            OLS Regression Results                            \n==============================================================================\nDep. Variable:              sightings   R-squared:                       0.886\nModel:                            OLS   Adj. R-squared:                  0.884\nMethod:                 Least Squares   F-statistic:                     381.3\nDate:                Mon, 27 Nov 2017   Prob (F-statistic):           9.16e-25\nTime:                        11:37:00   Log-Likelihood:                -413.39\nNo. Observations:                  50   AIC:                             828.8\nDf Residuals:                      49   BIC:                             830.7\nDf Model:                           1                                         \nCovariance Type:            nonrobust                                         \n==============================================================================\n                 coef    std err          t      P>|t|      [0.025      0.975]\n------------------------------------------------------------------------------\npops           0.0004   1.82e-05     19.527      0.000       0.000       0.000\n==============================================================================\nOmnibus:                       21.814   Durbin-Watson:                   1.772\nProb(Omnibus):                  0.000   Jarque-Bera (JB):               45.554\nSkew:                           1.203   Prob(JB):                     1.28e-10\nKurtosis:                       7.010   Cond. No.                         1.00\n==============================================================================\n\nWarnings:\n[1] Standard Errors assume that the covariance matrix of the errors is correctly specified.\n\"\"\""
      ]
     },
     "execution_count": 98,
     "metadata": {},
     "output_type": "execute_result"
    }
   ],
   "source": [
    "# Fit an ordinary least squares model using state populations to predict number of sightings per state\n",
    "fit2 = sfm.ols('sightings ~ pops + 0', data=df).fit()\n",
    "fit2.summary()\n"
   ]
  },
  {
   "cell_type": "markdown",
   "metadata": {
    "ein.tags": "worksheet-0",
    "slideshow": {
     "slide_type": "-"
    }
   },
   "source": [
    "The adjusted R-squared and F-statistic increased, both suggesting that the intercept-less model gives a better fit than the previous version. We can check this more quantitatively."
   ]
  },
  {
   "cell_type": "code",
   "execution_count": 99,
   "metadata": {
    "autoscroll": false,
    "collapsed": false,
    "ein.tags": "worksheet-0",
    "slideshow": {
     "slide_type": "-"
    }
   },
   "outputs": [
    {
     "name": "stdout",
     "output_type": "stream",
     "text": [
      "                 sum_sq    df           F        PR(>F)\n",
      "Intercept  1.473432e+06   1.0    1.645647  2.057125e-01\n",
      "pops       1.620754e+08   1.0  181.018697  6.618260e-18\n",
      "Residual   4.297688e+07  48.0         NaN           NaN\n",
      "                sum_sq    df           F        PR(>F)\n",
      "pops      3.458986e+08   1.0  381.302886  9.164848e-25\n",
      "Residual  4.445031e+07  49.0         NaN           NaN\n"
     ]
    }
   ],
   "source": [
    "print(sm.stats.anova_lm(fit1, typ=3))\n",
    "print(sm.stats.anova_lm(fit2, typ=3))\n"
   ]
  },
  {
   "cell_type": "markdown",
   "metadata": {
    "ein.tags": "worksheet-0",
    "slideshow": {
     "slide_type": "-"
    }
   },
   "source": [
    "We can see that the state population in the second model accounts for about as much of the sums-of-squares as the intercept and population in the first model combined.\n",
    "\n",
    "Let's view the relationships."
   ]
  },
  {
   "cell_type": "code",
   "execution_count": 106,
   "metadata": {
    "autoscroll": false,
    "collapsed": false,
    "ein.tags": "worksheet-0",
    "slideshow": {
     "slide_type": "-"
    }
   },
   "outputs": [
    {
     "data": {
      "image/png": "[encoded data removed]",
      "text/plain": [
       "<matplotlib.figure.Figure at 0x7f53c19ba908>"
      ]
     },
     "metadata": {},
     "output_type": "display_data"
    }
   ],
   "source": [
    "sns.regplot(x='pops', y='sightings', data=df, ci=None, color='black');\n",
    "\n",
    "# Plotting an OLS without an intercept is buggy so this is a workaround\n",
    "plt_range = np.array([df.pops.min()*0.8, df.pops.max()*1.2])\n",
    "plt.plot(plt_range, plt_range*fit2.params[0], 'r-');\n",
    "\n",
    "plt.xlabel('Average state population from 1970');\n",
    "plt.ylabel('Total number of UFO sightings since 1970');\n",
    "plt.legend(['With intercept', 'Without intercept']);\n"
   ]
  },
  {
   "cell_type": "markdown",
   "metadata": {
    "ein.tags": "worksheet-0",
    "slideshow": {
     "slide_type": "-"
    }
   },
   "source": [
    "The relationship between population and sightings is not as interesting, however, as analysis of the states which buck the overall trend (ie. those with the largest residuals.) This can be found like so."
   ]
  },
  {
   "cell_type": "code",
   "execution_count": 103,
   "metadata": {
    "autoscroll": false,
    "collapsed": false,
    "ein.tags": "worksheet-0",
    "slideshow": {
     "slide_type": "-"
    }
   },
   "outputs": [
    {
     "data": {
      "text/plain": [
       "state\nWA    3714.185579\nAZ    2392.637523\nNY   -2261.695290\nCA    2238.165050\nTX   -1703.412910\nOR    1560.101621\nFL    1390.227961\nCO     993.664814\ndtype: float64"
      ]
     },
     "execution_count": 103,
     "metadata": {},
     "output_type": "execute_result"
    }
   ],
   "source": [
    "# Sorts the residuals by their absolute value and takes the 8 largest.\n",
    "# Uses the index of these largest values to get the original signed residual\n",
    "# to see which states have more or fewer sightings than expected for their size.\n",
    "fit2.resid[fit2.resid.abs().sort_values(ascending=False)[:8].index]"
   ]
  },
  {
   "cell_type": "markdown",
   "metadata": {
    "ein.tags": "worksheet-0",
    "slideshow": {
     "slide_type": "-"
    }
   },
   "source": [
    "These states are candidates for further inspection.\n",
    "\n",
    "### Number of USAF bases per state vs sightings per thousand people per state"
   ]
  },
  {
   "cell_type": "code",
   "execution_count": 35,
   "metadata": {
    "autoscroll": false,
    "collapsed": false,
    "ein.tags": "worksheet-0",
    "slideshow": {
     "slide_type": "-"
    }
   },
   "outputs": [
    {
     "data": {
      "text/plain": [
       "<class 'statsmodels.iolib.summary.Summary'>\n\"\"\"\n                              OLS Regression Results                              \n==================================================================================\nDep. Variable:     sightings_per_thousand   R-squared:                       0.000\nModel:                                OLS   Adj. R-squared:                 -0.021\nMethod:                     Least Squares   F-statistic:                 0.0009804\nDate:                    Mon, 27 Nov 2017   Prob (F-statistic):              0.975\nTime:                            11:04:48   Log-Likelihood:                 1.6131\nNo. Observations:                      50   AIC:                            0.7738\nDf Residuals:                          48   BIC:                             4.598\nDf Model:                               1                                         \nCovariance Type:                nonrobust                                         \n==============================================================================\n                 coef    std err          t      P>|t|      [0.025      0.975]\n------------------------------------------------------------------------------\nIntercept      0.4642      0.044     10.496      0.000       0.375       0.553\nbase_count     0.0008      0.025      0.031      0.975      -0.049       0.050\n==============================================================================\nOmnibus:                        9.657   Durbin-Watson:                   2.162\nProb(Omnibus):                  0.008   Jarque-Bera (JB):               10.328\nSkew:                           1.113   Prob(JB):                      0.00572\nKurtosis:                       2.973   Cond. No.                         2.71\n==============================================================================\n\nWarnings:\n[1] Standard Errors assume that the covariance matrix of the errors is correctly specified.\n\"\"\""
      ]
     },
     "execution_count": 35,
     "metadata": {},
     "output_type": "execute_result"
    }
   ],
   "source": [
    "# Fit an ordinary least squares model using base count per state to predict sightings per thousand people\n",
    "fit2 = sfm.ols('sightings_per_thousand ~ base_count', data=df).fit()\n",
    "fit2.summary()"
   ]
  },
  {
   "cell_type": "code",
   "execution_count": 105,
   "metadata": {
    "autoscroll": false,
    "collapsed": false,
    "ein.tags": "worksheet-0",
    "slideshow": {
     "slide_type": "-"
    }
   },
   "outputs": [
    {
     "data": {
      "image/png": "[encoded data removed]",
      "text/plain": [
       "<matplotlib.figure.Figure at 0x7f53c1c603c8>"
      ]
     },
     "metadata": {},
     "output_type": "display_data"
    }
   ],
   "source": [
    "# Plot this fit\n",
    "sns.regplot(x='base_count', y='sightings_per_thousand', data=df, ci=None, color='black')\n",
    "plt.xlabel('Base count by state');\n",
    "plt.ylabel('UFO sightings per thousand people');\n"
   ]
  },
  {
   "cell_type": "markdown",
   "metadata": {
    "ein.tags": "worksheet-0",
    "slideshow": {
     "slide_type": "-"
    }
   },
   "source": [
    "The fit and plot both strongly indicate no relationship between the number of USAF bases in a state and the population-normalized number of sightings in that state.\n",
    "\n"
   ]
  }
 ],
 "metadata": {
  "kernelspec": {
   "display_name": "Python 3",
   "name": "python3"
  },
  "name": "Untitled.ipynb"
 },
 "nbformat": 4,
 "nbformat_minor": 2
}
